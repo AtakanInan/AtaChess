{
 "cells": [
  {
   "cell_type": "markdown",
   "id": "ea360242",
   "metadata": {},
   "source": [
    "## Ata Chess"
   ]
  },
  {
   "cell_type": "markdown",
   "id": "56ddf8f1",
   "metadata": {},
   "source": [
    "- Pawn (P) = 1\n",
    "- Knight (N) = 2\n",
    "- Bishop (B) = 3\n",
    "- Rook (R) = 4\n",
    "- Queen (Q) = 5\n",
    "- King (K) = 6\n",
    "\n",
    "- Empty (E) = 0\n",
    "\n",
    "- Black = White * (-1)"
   ]
  },
  {
   "cell_type": "code",
   "execution_count": 3,
   "id": "e3f0cfe4",
   "metadata": {},
   "outputs": [],
   "source": [
    "import random\n",
    "import json"
   ]
  },
  {
   "cell_type": "code",
   "execution_count": 101,
   "id": "75097ccc",
   "metadata": {},
   "outputs": [
    {
     "ename": "SyntaxError",
     "evalue": "invalid syntax (3970561308.py, line 62)",
     "output_type": "error",
     "traceback": [
      "\u001b[1;36m  Input \u001b[1;32mIn [101]\u001b[1;36m\u001b[0m\n\u001b[1;33m    def move_piece(self, move)\u001b[0m\n\u001b[1;37m                              ^\u001b[0m\n\u001b[1;31mSyntaxError\u001b[0m\u001b[1;31m:\u001b[0m invalid syntax\n"
     ]
    }
   ],
   "source": [
    "class Board:\n",
    "\n",
    "    def __init__(self):\n",
    "\n",
    "        self.squares = [[0 for _ in range(8)]\n",
    "                        for _ in range(8)]\n",
    "        \n",
    "        with open('piece_movements.json') as f:\n",
    "            self.piece_movements = json.load(f)\n",
    "        \n",
    "        self.black_king = (0,4)\n",
    "        self.white_king = (7,4)\n",
    "        \n",
    "    def check_if_in_check(self):\n",
    "        if self.black_king in self.get_all_valid_moves(1):\n",
    "            print(\"Black is in check!\")\n",
    "            \n",
    "        if self.white_king in self.get_all_valid_moves(-1):\n",
    "            print(\"White is in check!\")\n",
    "        \n",
    "    \n",
    "    def get_all_valid_moves(self, player):\n",
    "        moves = []\n",
    "        for i in range(8):\n",
    "            for j in range(8):\n",
    "                if player*self.squares[i][j]>0:\n",
    "                    moves.extend(self.get_valid_piece_moves((i,j)))\n",
    "        return moves\n",
    "        \n",
    "    def get_valid_piece_moves(self, piece):\n",
    "        '''\n",
    "        Returns all possible moves for the given piece by square coordinates.\n",
    "        '''\n",
    "          \n",
    "        current_piece = self.squares[piece[0]][piece[1]]\n",
    "        \n",
    "        piece_dir = self.piece_movements[str(abs(current_piece))]['direction']\n",
    "        rows = piece_dir['row']\n",
    "        cols = piece_dir['col']\n",
    "        \n",
    "        distance = self.piece_movements[str(abs(current_piece))]['distance']\n",
    "        \n",
    "        valid_moves = []\n",
    "        \n",
    "        for r,c in zip(rows, cols): \n",
    "            for d in range(1, distance+1):\n",
    "                row = piece[0]+d*r\n",
    "                col = piece[1]+d*c\n",
    "                if 0 <= row <= 7 and  0 <= col <= 7:\n",
    "                    \n",
    "                    # Empty square\n",
    "                    if(self.squares[row][col]==0): \n",
    "                        valid_moves.append((row, col))\n",
    "                    # Own square    \n",
    "                    elif(self.squares[row][col]*current_piece>0):\n",
    "                        break\n",
    "                    # Enemy square\n",
    "                    else:\n",
    "                        valid_moves.append((row, col))\n",
    "                        break\n",
    "        return valid_moves\n",
    "    "
   ]
  },
  {
   "cell_type": "code",
   "execution_count": 98,
   "id": "8d1fda92",
   "metadata": {},
   "outputs": [],
   "source": [
    "s = (0,0)\n",
    "board = Board()\n",
    "\n",
    "board.squares[5][6] = -2\n",
    "board.squares[7][4] = 6\n",
    "\n",
    "board.check_if_in_check()\n",
    "#for i in board.get_valid_piece_moves(s):\n",
    "#    board.squares[i[0]][i[1]] = 9"
   ]
  },
  {
   "cell_type": "code",
   "execution_count": 99,
   "id": "239b11b8",
   "metadata": {},
   "outputs": [
    {
     "name": "stdout",
     "output_type": "stream",
     "text": [
      "[0, 0, 0, 0, 0, 0, 0, 0]\n",
      "[0, 0, 0, 0, 0, 0, 0, 0]\n",
      "[0, 0, 0, 0, 0, 0, 0, 0]\n",
      "[0, 0, 0, 0, 0, 0, 0, 0]\n",
      "[0, 0, 0, 0, 0, 0, 0, 0]\n",
      "[0, 0, 0, 0, 0, 0, -2, 0]\n",
      "[0, 0, 0, 0, 0, 0, 0, 0]\n",
      "[0, 0, 0, 0, 6, 0, 0, 0]\n",
      "\n",
      "[0, 0, 0, 0, 0, 0, 0, 0]\n",
      "[0, 0, 0, 0, 0, 0, 0, 0]\n",
      "[0, 0, 0, 0, 0, 0, 0, 0]\n",
      "[0, 0, 0, 0, 0, 0, 0, 0]\n",
      "[0, 0, 0, 0, 0, 0, 0, 0]\n",
      "[0, 0, 0, 0, 0, 0, -2, 0]\n",
      "[0, 0, 0, 9, 9, 9, 0, 0]\n",
      "[0, 0, 0, 9, 6, 9, 0, 0]\n"
     ]
    }
   ],
   "source": [
    "test = board.get_all_valid_moves(1)\n",
    "for s in board.squares:\n",
    "    print(s)\n",
    "\n",
    "for i in test:\n",
    "    board.squares[i[0]][i[1]] = 9\n",
    "print()\n",
    "for s in board.squares:\n",
    "    print(s)"
   ]
  },
  {
   "cell_type": "code",
   "execution_count": null,
   "id": "e6c953bf",
   "metadata": {},
   "outputs": [],
   "source": []
  }
 ],
 "metadata": {
  "kernelspec": {
   "display_name": "Python 3 (ipykernel)",
   "language": "python",
   "name": "python3"
  },
  "language_info": {
   "codemirror_mode": {
    "name": "ipython",
    "version": 3
   },
   "file_extension": ".py",
   "mimetype": "text/x-python",
   "name": "python",
   "nbconvert_exporter": "python",
   "pygments_lexer": "ipython3",
   "version": "3.9.7"
  }
 },
 "nbformat": 4,
 "nbformat_minor": 5
}
