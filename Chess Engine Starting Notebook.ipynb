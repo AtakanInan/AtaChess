{
 "cells": [
  {
   "cell_type": "markdown",
   "id": "ea360242",
   "metadata": {},
   "source": [
    "## Ata Chess"
   ]
  },
  {
   "cell_type": "markdown",
   "id": "56ddf8f1",
   "metadata": {},
   "source": [
    "- Pawn (P) = 1\n",
    "- Knight (N) = 2\n",
    "- Bishop (B) = 3\n",
    "- Rook (R) = 4\n",
    "- Queen (Q) = 5\n",
    "- King (K) = 6\n",
    "\n",
    "- Empty (E) = 0\n",
    "\n",
    "- Black = White * (-1)"
   ]
  },
  {
   "cell_type": "code",
   "execution_count": 3,
   "id": "e3f0cfe4",
   "metadata": {},
   "outputs": [],
   "source": [
    "import random\n",
    "from tqdm import tqdm"
   ]
  },
  {
   "cell_type": "code",
   "execution_count": 39,
   "id": "8d1fda92",
   "metadata": {},
   "outputs": [
    {
     "data": {
      "text/plain": [
       "[[0, 0, 0, 0, 0, 1, 0, 0],\n",
       " [0, 0, 0, 0, 0, 1, 0, 0],\n",
       " [0, 0, 0, 0, 0, 1, 0, 0],\n",
       " [1, 1, 1, 1, 1, -4, 1, 1],\n",
       " [0, 0, 0, 0, 0, 1, 0, 0],\n",
       " [0, 0, 0, 0, 0, 1, 0, 0],\n",
       " [0, 0, 0, 0, 0, 1, 0, 0],\n",
       " [0, 0, 0, 0, 0, 1, 0, 0]]"
      ]
     },
     "execution_count": 39,
     "metadata": {},
     "output_type": "execute_result"
    }
   ],
   "source": [
    "board = [[0 for _ in range(8)]\n",
    "         for _ in range(8)]\n",
    "\n",
    "a = 3\n",
    "b = 5\n",
    "board[a][b] = -4\n",
    "\n",
    "for v in get_valid_moves(board, (a,b)):\n",
    "    board[v[0]][v[1]] = 1\n",
    "\n",
    "board\n"
   ]
  },
  {
   "cell_type": "code",
   "execution_count": 42,
   "id": "75097ccc",
   "metadata": {},
   "outputs": [],
   "source": [
    "class Board:\n",
    "\n",
    "    PIECE_MOVEMENTS = {# 2 = Knight; 3 = Bishop; 4 = Rook; 5 = Queen; 6 = King\n",
    "                       2: ([(2, 1), (-2, 1), (2, -1), (-2, -1), (1, 2), (-1, 2), (1, -2), (-1, -2)], 1),\n",
    "                       3: ([(1,-1), (1,1), (-1,1), (-1,-1)], 7),\n",
    "                       4: ([(1,0), (0,1), (-1,0), (0,-1)], 7),\n",
    "                       5: ([(1,0), (0,1), (-1,0), (0,-1), (1,-1), (1,1), (-1,1), (-1,-1)], 7),\n",
    "                       6: ([(1,0), (0,1), (-1,0), (0,-1), (1,-1), (1,1), (-1,1), (-1,-1)], 1)}\n",
    "    \n",
    "    def __init__(self):\n",
    "        \n",
    "        self.squares = [[0 for _ in range(8)]\n",
    "                        for _ in range(8)]\n",
    "        \n",
    "        self.qscw = True  # Whether or not white is allowed to queen side castle\n",
    "        self.qscb = True  # Whether or not black is allowed to queen side castle\n",
    "\n",
    "        self.kscw = True  # Whether or not white is allowed to king side castle\n",
    "        self.kscb = True  # Whether or not black is allowed to king side castle\n",
    "\n",
    "        self.en_passant = False\n",
    "\n",
    "\n",
    "    def get_valid_moves(piece):\n",
    "        '''\n",
    "        Returns all possible moves for the given piece by square coordinates.\n",
    "        '''\n",
    "        valid_moves = []\n",
    "\n",
    "        direction = PIECE_MOVEMENTS.get([abs(board[s[0]][s[1]])], None)\n",
    "        if not direction:\n",
    "            return []\n",
    "        for i,j in direction[0]:\n",
    "            for d in range(1, direction[1]+1):\n",
    "                row = piece[0]+d*i\n",
    "                col = piece[1]+d*j\n",
    "                if 0 <= row <= 7 and  0 <= col <= 7:\n",
    "                    valid_moves.append((row, col))\n",
    "        return valid_moves\n"
   ]
  },
  {
   "cell_type": "code",
   "execution_count": 43,
   "id": "da69e320",
   "metadata": {},
   "outputs": [],
   "source": [
    "game1 = Board()"
   ]
  },
  {
   "cell_type": "code",
   "execution_count": 31,
   "id": "2ae334a0",
   "metadata": {},
   "outputs": [
    {
     "name": "stdout",
     "output_type": "stream",
     "text": [
      "1\n"
     ]
    }
   ],
   "source": []
  },
  {
   "cell_type": "code",
   "execution_count": null,
   "id": "ae04b546",
   "metadata": {},
   "outputs": [],
   "source": []
  }
 ],
 "metadata": {
  "kernelspec": {
   "display_name": "Python 3 (ipykernel)",
   "language": "python",
   "name": "python3"
  },
  "language_info": {
   "codemirror_mode": {
    "name": "ipython",
    "version": 3
   },
   "file_extension": ".py",
   "mimetype": "text/x-python",
   "name": "python",
   "nbconvert_exporter": "python",
   "pygments_lexer": "ipython3",
   "version": "3.9.7"
  }
 },
 "nbformat": 4,
 "nbformat_minor": 5
}
